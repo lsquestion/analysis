{
 "cells": [
  {
   "cell_type": "code",
   "execution_count": 28,
   "metadata": {},
   "outputs": [
    {
     "name": "stdout",
     "output_type": "stream",
     "text": [
      "nutrient                                     Glycine\n",
      "nutgroup                                 Amino Acids\n",
      "units                                              g\n",
      "value                                           0.04\n",
      "id                                              6158\n",
      "food          Soup, tomato bisque, canned, condensed\n",
      "fgroup                    Soups, Sauces, and Gravies\n",
      "manufactor                                       NaN\n",
      "Name: 30000, dtype: object\n",
      "nutrient                                     Proline\n",
      "nutgroup                                 Amino Acids\n",
      "units                                              g\n",
      "value                                          0.108\n",
      "id                                              6158\n",
      "food          Soup, tomato bisque, canned, condensed\n",
      "fgroup                    Soups, Sauces, and Gravies\n",
      "manufactor                                       NaN\n",
      "Name: 30001, dtype: object\n",
      "nutrient                                      Serine\n",
      "nutgroup                                 Amino Acids\n",
      "units                                              g\n",
      "value                                          0.069\n",
      "id                                              6158\n",
      "food          Soup, tomato bisque, canned, condensed\n",
      "fgroup                    Soups, Sauces, and Gravies\n",
      "manufactor                                       NaN\n",
      "Name: 30002, dtype: object\n"
     ]
    }
   ],
   "source": [
    "import json\n",
    "import pandas as pd\n",
    "from pandas import DataFrame\n",
    "\n",
    "db=json.load(open('./python-project/pydata/datasets/usda_food/database.json'))\n",
    "#print(len(db))\n",
    "#print(db[0])\n",
    "#print(db[0]['nutrients'][0])\n",
    "#nutrients=DataFrame(db[0]['nutrients'])\n",
    "#print(nutrients[:7])\n",
    "info_keys=['description','group','id','manufactor']\n",
    "info=DataFrame(db,columns=info_keys)\n",
    "#print(info[:5])\n",
    "#print(pd.value_counts(info.group)[:10])\n",
    "nutrients=[]\n",
    "for rec in db:\n",
    "    fnuts=DataFrame(rec['nutrients'])\n",
    "    fnuts['id']=rec['id']\n",
    "    nutrients.append(fnuts)\n",
    "    \n",
    "nutrients=pd.concat(nutrients,ignore_index=True)\n",
    "\n",
    "nutrients=nutrients.drop_duplicates()\n",
    "\n",
    "col_mapping={'description':'food',\n",
    "            'group':'fgroup'}\n",
    "info=info.rename(columns=col_mapping,copy=False)\n",
    "\n",
    "col_mapping={'description':'nutrient',\n",
    "            'group':'nutgroup'}\n",
    "nutrients=nutrients.rename(columns=col_mapping,copy=False)\n",
    "\n",
    "ndata=pd.merge(nutrients,info,on='id',how='outer')\n",
    "\n",
    "print(ndata.loc[30000])\n",
    "print(ndata.loc[30001])\n",
    "print(ndata.loc[30002])"
   ]
  },
  {
   "cell_type": "code",
   "execution_count": null,
   "metadata": {},
   "outputs": [],
   "source": []
  },
  {
   "cell_type": "code",
   "execution_count": null,
   "metadata": {},
   "outputs": [],
   "source": []
  },
  {
   "cell_type": "code",
   "execution_count": null,
   "metadata": {},
   "outputs": [],
   "source": []
  },
  {
   "cell_type": "code",
   "execution_count": null,
   "metadata": {},
   "outputs": [],
   "source": []
  },
  {
   "cell_type": "code",
   "execution_count": null,
   "metadata": {},
   "outputs": [],
   "source": []
  },
  {
   "cell_type": "code",
   "execution_count": null,
   "metadata": {},
   "outputs": [],
   "source": []
  },
  {
   "cell_type": "code",
   "execution_count": null,
   "metadata": {},
   "outputs": [],
   "source": []
  },
  {
   "cell_type": "code",
   "execution_count": null,
   "metadata": {},
   "outputs": [],
   "source": []
  },
  {
   "cell_type": "code",
   "execution_count": null,
   "metadata": {},
   "outputs": [],
   "source": []
  },
  {
   "cell_type": "code",
   "execution_count": null,
   "metadata": {},
   "outputs": [],
   "source": []
  },
  {
   "cell_type": "code",
   "execution_count": null,
   "metadata": {},
   "outputs": [],
   "source": []
  },
  {
   "cell_type": "code",
   "execution_count": null,
   "metadata": {},
   "outputs": [],
   "source": []
  },
  {
   "cell_type": "code",
   "execution_count": null,
   "metadata": {},
   "outputs": [],
   "source": []
  },
  {
   "cell_type": "code",
   "execution_count": null,
   "metadata": {},
   "outputs": [],
   "source": []
  },
  {
   "cell_type": "code",
   "execution_count": null,
   "metadata": {},
   "outputs": [],
   "source": []
  },
  {
   "cell_type": "code",
   "execution_count": null,
   "metadata": {},
   "outputs": [],
   "source": []
  },
  {
   "cell_type": "code",
   "execution_count": null,
   "metadata": {},
   "outputs": [],
   "source": []
  },
  {
   "cell_type": "code",
   "execution_count": null,
   "metadata": {},
   "outputs": [],
   "source": []
  },
  {
   "cell_type": "code",
   "execution_count": null,
   "metadata": {},
   "outputs": [],
   "source": []
  },
  {
   "cell_type": "code",
   "execution_count": null,
   "metadata": {},
   "outputs": [],
   "source": []
  },
  {
   "cell_type": "code",
   "execution_count": null,
   "metadata": {},
   "outputs": [],
   "source": []
  },
  {
   "cell_type": "code",
   "execution_count": null,
   "metadata": {},
   "outputs": [],
   "source": []
  },
  {
   "cell_type": "code",
   "execution_count": null,
   "metadata": {},
   "outputs": [],
   "source": []
  },
  {
   "cell_type": "code",
   "execution_count": null,
   "metadata": {},
   "outputs": [],
   "source": []
  },
  {
   "cell_type": "code",
   "execution_count": null,
   "metadata": {},
   "outputs": [],
   "source": []
  },
  {
   "cell_type": "code",
   "execution_count": null,
   "metadata": {},
   "outputs": [],
   "source": []
  },
  {
   "cell_type": "code",
   "execution_count": null,
   "metadata": {},
   "outputs": [],
   "source": []
  },
  {
   "cell_type": "code",
   "execution_count": null,
   "metadata": {},
   "outputs": [],
   "source": []
  },
  {
   "cell_type": "code",
   "execution_count": null,
   "metadata": {},
   "outputs": [],
   "source": []
  },
  {
   "cell_type": "code",
   "execution_count": null,
   "metadata": {},
   "outputs": [],
   "source": []
  },
  {
   "cell_type": "code",
   "execution_count": null,
   "metadata": {},
   "outputs": [],
   "source": []
  },
  {
   "cell_type": "code",
   "execution_count": null,
   "metadata": {},
   "outputs": [],
   "source": []
  }
 ],
 "metadata": {
  "kernelspec": {
   "display_name": "Python 3",
   "language": "python",
   "name": "python3"
  },
  "language_info": {
   "codemirror_mode": {
    "name": "ipython",
    "version": 3
   },
   "file_extension": ".py",
   "mimetype": "text/x-python",
   "name": "python",
   "nbconvert_exporter": "python",
   "pygments_lexer": "ipython3",
   "version": "3.6.4"
  }
 },
 "nbformat": 4,
 "nbformat_minor": 2
}
